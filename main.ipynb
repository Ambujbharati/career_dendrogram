{
 "cells": [
  {
   "cell_type": "code",
   "execution_count": 2,
   "id": "a9502b4f",
   "metadata": {},
   "outputs": [],
   "source": [
    "import pandas as pd;\n",
    "import numpy as np;\n",
    "import matplotlib.pyplot as plt\n",
    "import seaborn as sns;"
   ]
  },
  {
   "cell_type": "code",
   "execution_count": 5,
   "id": "a12746d2",
   "metadata": {},
   "outputs": [],
   "source": [
    "df = pd.read_csv(\"roo_data.csv\")"
   ]
  },
  {
   "cell_type": "code",
   "execution_count": 6,
   "id": "1cce74fe",
   "metadata": {},
   "outputs": [],
   "source": [
    "#create a copy of original data\n",
    "data = df.copy();"
   ]
  },
  {
   "cell_type": "markdown",
   "id": "232236df",
   "metadata": {},
   "source": [
    "\"\"\"\n",
    "\n",
    "#Exploratory Data Analysis:\n",
    "    1.Getting to know the data\n",
    "    2.Data preprocessing (missing values)\n",
    "    3.Data visualization\n",
    "\n",
    "\"\"\""
   ]
  },
  {
   "cell_type": "markdown",
   "id": "ae57fd3d",
   "metadata": {},
   "source": [
    "### 1. Getting to know the data"
   ]
  },
  {
   "cell_type": "code",
   "execution_count": 7,
   "id": "05278a02",
   "metadata": {},
   "outputs": [
    {
     "name": "stdout",
     "output_type": "stream",
     "text": [
      "<class 'pandas.core.frame.DataFrame'>\n",
      "RangeIndex: 20000 entries, 0 to 19999\n",
      "Data columns (total 39 columns):\n",
      " #   Column                                    Non-Null Count  Dtype \n",
      "---  ------                                    --------------  ----- \n",
      " 0   Acedamic percentage in Operating Systems  20000 non-null  int64 \n",
      " 1   percentage in Algorithms                  20000 non-null  int64 \n",
      " 2   Percentage in Programming Concepts        20000 non-null  int64 \n",
      " 3   Percentage in Software Engineering        20000 non-null  int64 \n",
      " 4   Percentage in Computer Networks           20000 non-null  int64 \n",
      " 5   Percentage in Electronics Subjects        20000 non-null  int64 \n",
      " 6   Percentage in Computer Architecture       20000 non-null  int64 \n",
      " 7   Percentage in Mathematics                 20000 non-null  int64 \n",
      " 8   Percentage in Communication skills        20000 non-null  int64 \n",
      " 9   Hours working per day                     20000 non-null  int64 \n",
      " 10  Logical quotient rating                   20000 non-null  int64 \n",
      " 11  hackathons                                20000 non-null  int64 \n",
      " 12  coding skills rating                      20000 non-null  int64 \n",
      " 13  public speaking points                    20000 non-null  int64 \n",
      " 14  can work long time before system?         20000 non-null  object\n",
      " 15  self-learning capability?                 20000 non-null  object\n",
      " 16  Extra-courses did                         20000 non-null  object\n",
      " 17  certifications                            20000 non-null  object\n",
      " 18  workshops                                 20000 non-null  object\n",
      " 19  talenttests taken?                        20000 non-null  object\n",
      " 20  olympiads                                 20000 non-null  object\n",
      " 21  reading and writing skills                20000 non-null  object\n",
      " 22  memory capability score                   20000 non-null  object\n",
      " 23  Interested subjects                       20000 non-null  object\n",
      " 24  interested career area                    20000 non-null  object\n",
      " 25  Job/Higher Studies?                       20000 non-null  object\n",
      " 26  Type of company want to settle in?        20000 non-null  object\n",
      " 27  Taken inputs from seniors or elders       20000 non-null  object\n",
      " 28  interested in games                       20000 non-null  object\n",
      " 29  Interested Type of Books                  20000 non-null  object\n",
      " 30  Salary Range Expected                     20000 non-null  object\n",
      " 31  In a Realtionship?                        20000 non-null  object\n",
      " 32  Gentle or Tuff behaviour?                 20000 non-null  object\n",
      " 33  Management or Technical                   20000 non-null  object\n",
      " 34  Salary/work                               20000 non-null  object\n",
      " 35  hard/smart worker                         20000 non-null  object\n",
      " 36  worked in teams ever?                     20000 non-null  object\n",
      " 37  Introvert                                 20000 non-null  object\n",
      " 38  Suggested Job Role                        20000 non-null  object\n",
      "dtypes: int64(14), object(25)\n",
      "memory usage: 6.0+ MB\n",
      "None\n"
     ]
    }
   ],
   "source": [
    "print(data.info());"
   ]
  },
  {
   "cell_type": "code",
   "execution_count": 21,
   "id": "5e12c5aa",
   "metadata": {},
   "outputs": [],
   "source": [
    "#check for missing values\n",
    "# data.isnull();\n",
    "# print(data.isnull().sum());"
   ]
  },
  {
   "cell_type": "code",
   "execution_count": null,
   "id": "d7aa854f",
   "metadata": {},
   "outputs": [],
   "source": [
    "#summary of numerical variables\n",
    "# print(data.describe());"
   ]
  },
  {
   "cell_type": "code",
   "execution_count": null,
   "id": "f555a905",
   "metadata": {},
   "outputs": [],
   "source": [
    "# data.head()"
   ]
  },
  {
   "cell_type": "code",
   "execution_count": 59,
   "id": "4d3ec741",
   "metadata": {},
   "outputs": [
    {
     "name": "stdout",
     "output_type": "stream",
     "text": [
      "['Applications Developer' 'Business Intelligence Analyst'\n",
      " 'Business Systems Analyst' 'CRM Business Analyst'\n",
      " 'CRM Technical Developer' 'Data Architect' 'Database Administrator'\n",
      " 'Database Developer' 'Database Manager' 'Design & UX'\n",
      " 'E-Commerce Analyst' 'Information Security Analyst'\n",
      " 'Information Technology Auditor' 'Information Technology Manager'\n",
      " 'Mobile Applications Developer' 'Network Engineer'\n",
      " 'Network Security Administrator' 'Network Security Engineer'\n",
      " 'Portal Administrator' 'Programmer Analyst' 'Project Manager'\n",
      " 'Quality Assurance Associate' 'Software Developer' 'Software Engineer'\n",
      " 'Software Quality Assurance (QA) / Testing' 'Software Systems Engineer'\n",
      " 'Solutions Architect' 'Systems Analyst' 'Systems Security Administrator'\n",
      " 'Technical Engineer' 'Technical Services/Help Desk/Tech Support'\n",
      " 'Technical Support' 'UX Designer' 'Web Developer']\n"
     ]
    }
   ],
   "source": [
    "#checking for unique classes of JobType and occupation \n",
    "print(np.unique(data['Suggested Job Role']));\n",
    "# print(\"\\n\\n\",np.unique(data['occupation']));"
   ]
  },
  {
   "cell_type": "markdown",
   "id": "8eb216cb",
   "metadata": {},
   "source": [
    "### 2. Data preprocessing (missing values)"
   ]
  },
  {
   "cell_type": "code",
   "execution_count": 19,
   "id": "cfe7110c",
   "metadata": {},
   "outputs": [],
   "source": [
    "# Not needed"
   ]
  },
  {
   "cell_type": "markdown",
   "id": "938d4a06",
   "metadata": {},
   "source": [
    "### 3. Data visualization"
   ]
  },
  {
   "cell_type": "code",
   "execution_count": null,
   "id": "421bc95f",
   "metadata": {},
   "outputs": [],
   "source": []
  }
 ],
 "metadata": {
  "kernelspec": {
   "display_name": "Python 3",
   "language": "python",
   "name": "python3"
  },
  "language_info": {
   "codemirror_mode": {
    "name": "ipython",
    "version": 3
   },
   "file_extension": ".py",
   "mimetype": "text/x-python",
   "name": "python",
   "nbconvert_exporter": "python",
   "pygments_lexer": "ipython3",
   "version": "3.8.8"
  }
 },
 "nbformat": 4,
 "nbformat_minor": 5
}
